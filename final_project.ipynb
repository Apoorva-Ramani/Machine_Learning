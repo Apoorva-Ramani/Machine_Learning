{
 "cells": [
  {
   "cell_type": "markdown",
   "metadata": {
    "id": "RGITFlS50iUz"
   },
   "source": [
    "# Model training and evaluation\n",
    "In this notebook, we present the best models we found for these methods: logistic regression, SVC/SVM, 2-layer neural network, CNN, random forest and XGBoost."
   ]
  },
  {
   "cell_type": "markdown",
   "metadata": {
    "id": "-hiQv86uDQUM"
   },
   "source": [
    "## Load Dataset"
   ]
  },
  {
   "cell_type": "code",
   "execution_count": null,
   "metadata": {
    "id": "t-KyI9y6xzLu"
   },
   "outputs": [],
   "source": [
    "import numpy as np\n",
    "import time\n",
    "from sklearn.metrics import classification_report, confusion_matrix, accuracy_score\n",
    "import matplotlib.pyplot as plt"
   ]
  },
  {
   "cell_type": "code",
   "execution_count": null,
   "metadata": {
    "colab": {
     "base_uri": "https://localhost:8080/"
    },
    "id": "uW3BVwwCDcLd",
    "outputId": "e6eb4452-0332-457b-d6f9-2b34768f2bc5"
   },
   "outputs": [
    {
     "name": "stdout",
     "output_type": "stream",
     "text": [
      "loaded 20 classes of training data\n",
      "unique labels:  [ 0  1  2  3  4  5  6  7  8  9 10 11 12 13 14 15 16 17 18 19]\n",
      "number of features:  20\n",
      "number of samples:  100000\n"
     ]
    }
   ],
   "source": [
    "training_folder = 'training_data/'\n",
    "\n",
    "# instantiate empty arrays for features and labels\n",
    "X = np.array([])\n",
    "y = np.array([])\n",
    "k = 0 # initialize\n",
    "\n",
    "# load data from the relevant files\n",
    "while True:\n",
    "  try:\n",
    "    # load data file\n",
    "    class_k = np.loadtxt(training_folder + 'Class{:}.csv'.format(k))\n",
    "    # extract features and labels\n",
    "    class_k_features = class_k[:,:-1] # extract features\n",
    "    class_k_labels  = class_k[:,-1].astype(np.int) # labels; convert to int\n",
    "    # append the features and labels to the arrays\n",
    "    X = np.vstack([X,class_k_features]) if X.size else class_k_features\n",
    "    y = np.hstack([y,class_k_labels]) if y.size else class_k_labels\n",
    "    # increment counter\n",
    "    k += 1\n",
    "  except:\n",
    "      print('loaded %i classes of training data' %k)\n",
    "      break\n",
    "\n",
    "# examine shape\n",
    "num_classes = k\n",
    "num_features = X.shape[1]\n",
    "num_samples = X.shape[0]\n",
    "\n",
    "print('unique labels: ', np.unique(y))\n",
    "print('number of features: ', num_features)\n",
    "print('number of samples: ', num_samples)"
   ]
  },
  {
   "cell_type": "markdown",
   "metadata": {
    "id": "BlStWqoNDnjT"
   },
   "source": [
    "Next, we standardize the dataset such that all features have zero mean and unit variance."
   ]
  },
  {
   "cell_type": "code",
   "execution_count": null,
   "metadata": {
    "id": "NI33IhNLDoQs"
   },
   "outputs": [],
   "source": [
    "import sklearn.preprocessing\n",
    "\n",
    "# standardize dataset\n",
    "X = sklearn.preprocessing.scale(X)"
   ]
  },
  {
   "cell_type": "markdown",
   "metadata": {
    "id": "qfqZO45LDtQL"
   },
   "source": [
    "Since our dataset is large, we split the dataset into 70% for training and 30% for test."
   ]
  },
  {
   "cell_type": "code",
   "execution_count": null,
   "metadata": {
    "id": "oX2Ety5VDwqU"
   },
   "outputs": [],
   "source": [
    "from sklearn.model_selection import train_test_split\n",
    "Xtr, Xts, ytr, yts = train_test_split(X, y, test_size=0.3, shuffle=True)"
   ]
  },
  {
   "cell_type": "markdown",
   "metadata": {
    "id": "lvLSrng3wFpu"
   },
   "source": [
    "## Logistic Regression"
   ]
  },
  {
   "cell_type": "code",
   "execution_count": null,
   "metadata": {
    "colab": {
     "base_uri": "https://localhost:8080/"
    },
    "id": "wnqMfvhbv2sJ",
    "outputId": "0fb92893-3fa7-4f2a-bd6b-c1d42aa1679f"
   },
   "outputs": [
    {
     "name": "stdout",
     "output_type": "stream",
     "text": [
      "Accuracy: 86.94%, train time: 117s, test time: 0s\n"
     ]
    }
   ],
   "source": [
    "from sklearn.linear_model import LogisticRegression\n",
    "#Defined the model with optimized parameters\n",
    "model=LogisticRegression(C = 55.0, max_iter= 5000, \\\n",
    "                         multi_class= 'multinomial', \\\n",
    "                         penalty = 'l1', solver = 'saga')\n",
    "t1 = time.time()\n",
    "#Training \n",
    "model.fit(Xtr,ytr)\n",
    "t_train = time.time() - t1\n",
    "\n",
    "#print(\"score\",logreg2.score(x_test,y_test))\n",
    "t1 = time.time()\n",
    "# evaluate predictions\n",
    "y_pred = model.predict(Xts)\n",
    "t_test = time.time() - t1\n",
    "\n",
    "predictions = [round(value) for value in y_pred]\n",
    "#Accuracy calculations\n",
    "accuracy = accuracy_score(yts, predictions)\n",
    "print(\"Accuracy: %.2f%%, train time: %.fs, test time: %.fs\" % \\\n",
    "      (accuracy * 100.0, t_train, t_test))"
   ]
  },
  {
   "cell_type": "code",
   "execution_count": null,
   "metadata": {
    "colab": {
     "base_uri": "https://localhost:8080/",
     "height": 282
    },
    "id": "s17J_5LouDSp",
    "outputId": "56245329-5efd-4efc-f037-1f164b3e51f1"
   },
   "outputs": [
    {
     "data": {
      "text/plain": [
       "<matplotlib.colorbar.Colorbar at 0x7f837ba925f8>"
      ]
     },
     "execution_count": 6,
     "metadata": {
      "tags": []
     },
     "output_type": "execute_result"
    },
    {
     "data": {
      "image/png": "[encoded data removed]",
      "text/plain": [
       "<Figure size 432x288 with 2 Axes>"
      ]
     },
     "metadata": {
      "needs_background": "light",
      "tags": []
     },
     "output_type": "display_data"
    }
   ],
   "source": [
    "from sklearn.metrics import confusion_matrix\n",
    "# Plot confusion matrix\n",
    "C = confusion_matrix(yts,predictions)\n",
    "\n",
    "# Normalize the confusion matrix\n",
    "Csum = np.sum(C,1)\n",
    "C = C / Csum[:, None]\n",
    "\n",
    "# Print the confusion matrix\n",
    "# print(np.array_str(C, precision=3, suppress_small=True))\n",
    "plt.imshow(C, interpolation='none')\n",
    "plt.colorbar()"
   ]
  },
  {
   "cell_type": "code",
   "execution_count": null,
   "metadata": {
    "id": "7gG_2sF9GUcN"
   },
   "outputs": [],
   "source": [
    "import pickle\n",
    "# save the model\n",
    "with open( \"best_logreg.sav\", \"wb\" ) as fp:\n",
    "    pickle.dump( model, fp )"
   ]
  },
  {
   "cell_type": "markdown",
   "metadata": {
    "id": "yxmfhWEQwcQO"
   },
   "source": [
    "## SVM"
   ]
  },
  {
   "cell_type": "markdown",
   "metadata": {
    "id": "ifD--AFS4tju"
   },
   "source": [
    "We explore Linear and RBF kernel to see which can give better accuracy. We also create a list of  C and 𝛾  values to figure out the best parameter setting, and they are created in a logarithmic range:\n",
    "\n",
    "C_range = np.logspace(-1, 2, 12)\n",
    "\n",
    "gam_range = np.logspace(-5, 1, 6)\n",
    "\n",
    "The search results are shown in the **screenshots** below:\n",
    "\n",
    "![svmgridrbf.png](data:image/png;base64,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)\n",
    "![svmgridlinear.png](data:image/png;base64,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)"
   ]
  },
  {
   "cell_type": "code",
   "execution_count": null,
   "metadata": {
    "colab": {
     "base_uri": "https://localhost:8080/"
    },
    "id": "nLlq8OhA4vin",
    "outputId": "4522514c-1761-409a-f264-2696670d425b"
   },
   "outputs": [
    {
     "name": "stdout",
     "output_type": "stream",
     "text": [
      "Test accuracy=0.8991, train time: 37.321574s, test time: 36.277869s\n"
     ]
    }
   ],
   "source": [
    "from sklearn import svm\n",
    "\n",
    "# train the classifier with the search result\n",
    "svc = svm.SVC(kernel='rbf', C=4.328761281083057, gamma=0.03981071705534969)\n",
    "\n",
    "t1 = time.time()\n",
    "svc.fit(Xtr,ytr)\n",
    "t_train = time.time()-t1\n",
    "\n",
    "# Evaluate on the test set\n",
    "t1 = time.time()\n",
    "yhat_ts = svc.predict(Xts)\n",
    "t_test = time.time() - t1\n",
    "\n",
    "acc = np.mean(yts==yhat_ts)\n",
    "\n",
    "print(\"Test accuracy=%.4f, train time: %fs, test time: %fs\"%(acc, t_train, t_test))"
   ]
  },
  {
   "cell_type": "markdown",
   "metadata": {
    "id": "t2l5WfEb6WZH"
   },
   "source": [
    "Save the best SVM model with RBF kernel."
   ]
  },
  {
   "cell_type": "code",
   "execution_count": null,
   "metadata": {
    "id": "wTupvCkY6Scn"
   },
   "outputs": [],
   "source": [
    "import pickle\n",
    "# save the model\n",
    "with open( \"best_svm.sav\", \"wb\" ) as fp:\n",
    "    pickle.dump( svc, fp )"
   ]
  },
  {
   "cell_type": "code",
   "execution_count": null,
   "metadata": {
    "colab": {
     "base_uri": "https://localhost:8080/",
     "height": 282
    },
    "id": "g7Oz1KYY6Vb-",
    "outputId": "647e73f3-4216-4a8f-e6d0-c115b4d305e6"
   },
   "outputs": [
    {
     "data": {
      "text/plain": [
       "<matplotlib.colorbar.Colorbar at 0x7f837b540cf8>"
      ]
     },
     "execution_count": 10,
     "metadata": {
      "tags": []
     },
     "output_type": "execute_result"
    },
    {
     "data": {
      "image/png": "[encoded data removed]",
      "text/plain": [
       "<Figure size 432x288 with 2 Axes>"
      ]
     },
     "metadata": {
      "needs_background": "light",
      "tags": []
     },
     "output_type": "display_data"
    }
   ],
   "source": [
    "from sklearn.metrics import confusion_matrix\n",
    "# Plot confusion matrix\n",
    "C = confusion_matrix(yts,yhat_ts)\n",
    "\n",
    "# Normalize the confusion matrix\n",
    "Csum = np.sum(C,1)\n",
    "C = C / Csum[:, None]\n",
    "\n",
    "# Print the confusion matrix\n",
    "# print(np.array_str(C, precision=3, suppress_small=True))\n",
    "plt.imshow(C, interpolation='none')\n",
    "plt.colorbar()"
   ]
  },
  {
   "cell_type": "markdown",
   "metadata": {
    "id": "y01_u7ZKwhKW"
   },
   "source": [
    "## 2-layer neural network"
   ]
  },
  {
   "cell_type": "code",
   "execution_count": null,
   "metadata": {
    "id": "ANN2LDIrz5aD"
   },
   "outputs": [],
   "source": [
    "#Importing all the required modules\n",
    "import numpy as np\n",
    "from sklearn.preprocessing import StandardScaler, MinMaxScaler\n",
    "from sklearn.model_selection import train_test_split\n",
    "import torch.utils.data\n",
    "import torch.nn as nn\n",
    "import torch.optim as optim\n",
    "from timeit import default_timer as timer\n",
    "from datetime import timedelta\n",
    "import matplotlib.pyplot as plt\n",
    "from sklearn.metrics import confusion_matrix\n",
    "import itertools"
   ]
  },
  {
   "cell_type": "markdown",
   "metadata": {
    "id": "lNxQrqNhz6sF"
   },
   "source": [
    "__Create a Pytorch dataset and dataloader__\n",
    "\n",
    "A dataset is a pytorch object that contains your training dataset. Here we will use the TensorDataset function to create a dataset from a tensor, but you can also create datasets from folders or use preconfigured datasets for many popular machine learning tasks.\n",
    "A dataloader is an object that loads the data from the dataset into your model. We will be using a batch size of 100. "
   ]
  },
  {
   "cell_type": "code",
   "execution_count": null,
   "metadata": {
    "id": "pm5N8WNfyKm-"
   },
   "outputs": [],
   "source": [
    "batch_size = 100\n",
    "\n",
    "# Convert the numpy arrays to PyTorch tensors\n",
    "Xtr_torch = torch.Tensor(Xtr)\n",
    "ytr_torch = torch.Tensor(ytr)\n",
    "Xts_torch = torch.Tensor(Xts)\n",
    "yts_torch = torch.Tensor(yts)\n",
    "\n",
    "# Create a training Dataset\n",
    "train_ds = torch.utils.data.TensorDataset(Xtr_torch, ytr_torch)\n",
    "# Creates a training DataLoader from this Dataset\n",
    "train_loader = torch.utils.data.DataLoader(train_ds, batch_size=batch_size, shuffle=True) \n",
    "\n",
    "# Create a testing Dataset\n",
    "test_ds = torch.utils.data.TensorDataset(Xts_torch, yts_torch)\n",
    "# Creates a testing DataLoader from this Dataset\n",
    "test_loader = torch.utils.data.DataLoader(test_ds, batch_size=batch_size)"
   ]
  },
  {
   "cell_type": "markdown",
   "metadata": {
    "id": "wiidjYZ9yoAb"
   },
   "source": [
    "__Creating a Simple Neural Network__\n",
    "\n",
    "torch.nn contains all the basic building blocks to build your neural network\n",
    "Building a Neural Network in Pytorch is as simple as defining a class with two methods: __ init __ and forward.\n",
    "\n",
    "__ init __\n",
    "\n",
    "This method initiates the model. First we initiate the network as an nn.Module. Then we add the layers and other necessary components. nn.Linear(chan_in, chan_out) creates a linear (also called fully-connected, or dense) layer with chan_in input channels and chan_out output channels. This first layer will have chan_in=nin, the number of inputs to the network, and chan_out=nh, the number of hidden nodes. The second layer, which is also our final or output layer, will have chan_in=nh inputs, which are the outputs of the previous layer, and chan_out=nout outputs, which is the number of outputs of the network.  nn.PReLU creates a PReLU activation function.\n",
    "\n",
    "__forward__\n",
    "\n",
    "This is the method that is called when you pass data through the network. The first dense layer is implemented and its output is passed through the activation function. The result is then passed through the second dense layer."
   ]
  },
  {
   "cell_type": "code",
   "execution_count": null,
   "metadata": {
    "id": "k1mx_gvpyqZN"
   },
   "outputs": [],
   "source": [
    "nin = X.shape[1] # dimension of input data\n",
    "nh = 500 # number of hidden units\n",
    "nout = int(np.max(y)+1) \n",
    "\n",
    "class Net(nn.Module):\n",
    "    def __init__(self,nin,nh,nout):\n",
    "        super(Net,self).__init__()\n",
    "        self.classifier = nn.Sequential(\n",
    "            nn.Linear(nin,nh),\n",
    "            nn.BatchNorm1d(nh), #applying batch norm\n",
    "            nn.PReLU(),#Activation function applied\n",
    "            nn.Dropout(0.5),#applying droupout\n",
    "            nn.Linear(nh,nout)\n",
    "        )\n",
    "        \n",
    "    def forward(self,x):\n",
    "        x = x.view(x.size(0), -1) #x.view(x.size(0), -1) is flattening the tensor, this is because the Linear layer only accepts a vector (1d array)\n",
    "        x = self.classifier(x)\n",
    "        return x\n",
    "\n",
    "model = Net(nin=nin, nh=nh, nout=nout)"
   ]
  },
  {
   "cell_type": "markdown",
   "metadata": {
    "id": "JCx20VyLy1cE"
   },
   "source": [
    "__Training the Network__\n",
    "\n",
    "To train the network, we have to select an optimizer and a loss function.\n",
    "optim.Adam(model.parameters(), lr=0.001) intantiates an optimizer that is linked to the parameters of our model. It also sets the learning rate to 0.001. The learning rate is a tunable parameter.\n",
    "nn.CrossEntropyLoss() creates a function that we will call later to compute the loss"
   ]
  },
  {
   "cell_type": "code",
   "execution_count": null,
   "metadata": {
    "id": "PJokPxZIy3T6"
   },
   "outputs": [],
   "source": [
    "opt = optim.Adam(model.parameters(), lr=0.001)\n",
    "criterion = nn.CrossEntropyLoss()"
   ]
  },
  {
   "cell_type": "markdown",
   "metadata": {
    "id": "AsbnLosczBpW"
   },
   "source": [
    "Now it's time to actually train the network. We will iterate over the training data num_epoch times. Iterating over the data is performed using an enumerator constructed from the dataloader object, loader. During each inner-loop iteration, one mini-batch of training data is processed."
   ]
  },
  {
   "cell_type": "code",
   "execution_count": null,
   "metadata": {
    "colab": {
     "base_uri": "https://localhost:8080/"
    },
    "id": "ku3zl4OYzEUA",
    "outputId": "7690b925-c893-4e59-93b0-0f8ed13b6301"
   },
   "outputs": [
    {
     "name": "stdout",
     "output_type": "stream",
     "text": [
      "Epoch:  1   Train Loss: 0.705   Train Accuracy: 78.49    Test Loss: 0.450   Test Accuracy: 85.49\n",
      "Epoch:  2   Train Loss: 0.503   Train Accuracy: 83.23    Test Loss: 0.400   Test Accuracy: 86.48\n",
      "Epoch:  3   Train Loss: 0.470   Train Accuracy: 83.90    Test Loss: 0.376   Test Accuracy: 87.19\n",
      "Epoch:  4   Train Loss: 0.445   Train Accuracy: 84.63    Test Loss: 0.357   Test Accuracy: 87.90\n",
      "Epoch:  5   Train Loss: 0.420   Train Accuracy: 85.42    Test Loss: 0.335   Test Accuracy: 88.77\n",
      "Epoch:  6   Train Loss: 0.408   Train Accuracy: 85.85    Test Loss: 0.324   Test Accuracy: 89.11\n",
      "Epoch:  7   Train Loss: 0.400   Train Accuracy: 86.03    Test Loss: 0.316   Test Accuracy: 89.35\n",
      "Epoch:  8   Train Loss: 0.391   Train Accuracy: 86.31    Test Loss: 0.307   Test Accuracy: 89.53\n",
      "Epoch:  9   Train Loss: 0.381   Train Accuracy: 86.69    Test Loss: 0.303   Test Accuracy: 89.65\n",
      "Epoch: 10   Train Loss: 0.377   Train Accuracy: 86.68    Test Loss: 0.299   Test Accuracy: 89.93\n",
      "Epoch: 11   Train Loss: 0.376   Train Accuracy: 86.97    Test Loss: 0.294   Test Accuracy: 90.07\n",
      "Epoch: 12   Train Loss: 0.369   Train Accuracy: 87.05    Test Loss: 0.293   Test Accuracy: 89.93\n",
      "Epoch: 13   Train Loss: 0.365   Train Accuracy: 87.14    Test Loss: 0.291   Test Accuracy: 90.05\n",
      "Epoch: 14   Train Loss: 0.365   Train Accuracy: 87.11    Test Loss: 0.285   Test Accuracy: 90.21\n",
      "Epoch: 15   Train Loss: 0.359   Train Accuracy: 87.34    Test Loss: 0.293   Test Accuracy: 89.80\n",
      "Epoch: 16   Train Loss: 0.355   Train Accuracy: 87.54    Test Loss: 0.287   Test Accuracy: 89.94\n",
      "Epoch: 17   Train Loss: 0.360   Train Accuracy: 87.43    Test Loss: 0.291   Test Accuracy: 89.98\n",
      "Epoch: 18   Train Loss: 0.356   Train Accuracy: 87.52    Test Loss: 0.285   Test Accuracy: 90.18\n",
      "Epoch: 19   Train Loss: 0.354   Train Accuracy: 87.48    Test Loss: 0.283   Test Accuracy: 90.28\n",
      "Epoch: 20   Train Loss: 0.353   Train Accuracy: 87.48    Test Loss: 0.282   Test Accuracy: 90.23\n",
      "Epoch: 21   Train Loss: 0.350   Train Accuracy: 87.67    Test Loss: 0.279   Test Accuracy: 90.47\n",
      "Epoch: 22   Train Loss: 0.348   Train Accuracy: 87.70    Test Loss: 0.278   Test Accuracy: 90.31\n",
      "Epoch: 23   Train Loss: 0.349   Train Accuracy: 87.67    Test Loss: 0.278   Test Accuracy: 90.37\n",
      "Epoch: 24   Train Loss: 0.346   Train Accuracy: 87.94    Test Loss: 0.280   Test Accuracy: 90.54\n",
      "Epoch: 25   Train Loss: 0.346   Train Accuracy: 87.67    Test Loss: 0.277   Test Accuracy: 90.64\n",
      "Epoch: 26   Train Loss: 0.344   Train Accuracy: 87.82    Test Loss: 0.278   Test Accuracy: 90.38\n",
      "Epoch: 27   Train Loss: 0.347   Train Accuracy: 87.67    Test Loss: 0.280   Test Accuracy: 90.34\n",
      "Epoch: 28   Train Loss: 0.345   Train Accuracy: 87.95    Test Loss: 0.276   Test Accuracy: 90.66\n",
      "Epoch: 29   Train Loss: 0.345   Train Accuracy: 87.85    Test Loss: 0.287   Test Accuracy: 89.94\n",
      "Epoch: 30   Train Loss: 0.343   Train Accuracy: 87.89    Test Loss: 0.274   Test Accuracy: 90.58\n",
      "Epoch: 31   Train Loss: 0.343   Train Accuracy: 87.91    Test Loss: 0.277   Test Accuracy: 90.42\n",
      "Epoch: 32   Train Loss: 0.340   Train Accuracy: 88.06    Test Loss: 0.277   Test Accuracy: 90.26\n",
      "Epoch: 33   Train Loss: 0.342   Train Accuracy: 88.04    Test Loss: 0.274   Test Accuracy: 90.61\n",
      "Epoch: 34   Train Loss: 0.341   Train Accuracy: 87.88    Test Loss: 0.274   Test Accuracy: 90.52\n",
      "Epoch: 35   Train Loss: 0.344   Train Accuracy: 88.00    Test Loss: 0.276   Test Accuracy: 90.66\n",
      "Epoch: 36   Train Loss: 0.338   Train Accuracy: 88.04    Test Loss: 0.274   Test Accuracy: 90.52\n",
      "Epoch: 37   Train Loss: 0.339   Train Accuracy: 87.99    Test Loss: 0.272   Test Accuracy: 90.69\n",
      "Epoch: 38   Train Loss: 0.337   Train Accuracy: 87.99    Test Loss: 0.276   Test Accuracy: 90.50\n",
      "Epoch: 39   Train Loss: 0.339   Train Accuracy: 88.02    Test Loss: 0.276   Test Accuracy: 90.47\n",
      "Epoch: 40   Train Loss: 0.338   Train Accuracy: 88.04    Test Loss: 0.275   Test Accuracy: 90.42\n",
      "Epoch: 41   Train Loss: 0.336   Train Accuracy: 88.07    Test Loss: 0.274   Test Accuracy: 90.43\n",
      "Epoch: 42   Train Loss: 0.334   Train Accuracy: 88.23    Test Loss: 0.276   Test Accuracy: 90.32\n",
      "Epoch: 43   Train Loss: 0.338   Train Accuracy: 88.11    Test Loss: 0.272   Test Accuracy: 90.63\n",
      "Epoch: 44   Train Loss: 0.336   Train Accuracy: 88.16    Test Loss: 0.271   Test Accuracy: 90.78\n",
      "Epoch: 45   Train Loss: 0.333   Train Accuracy: 88.32    Test Loss: 0.272   Test Accuracy: 90.55\n",
      "Epoch: 46   Train Loss: 0.332   Train Accuracy: 88.21    Test Loss: 0.270   Test Accuracy: 90.62\n",
      "Epoch: 47   Train Loss: 0.337   Train Accuracy: 88.11    Test Loss: 0.273   Test Accuracy: 90.60\n",
      "Epoch: 48   Train Loss: 0.335   Train Accuracy: 88.15    Test Loss: 0.270   Test Accuracy: 90.85\n",
      "Epoch: 49   Train Loss: 0.334   Train Accuracy: 88.23    Test Loss: 0.272   Test Accuracy: 90.69\n",
      "Epoch: 50   Train Loss: 0.333   Train Accuracy: 88.16    Test Loss: 0.270   Test Accuracy: 90.63\n",
      "Epoch: 51   Train Loss: 0.334   Train Accuracy: 88.23    Test Loss: 0.271   Test Accuracy: 90.85\n",
      "Epoch: 52   Train Loss: 0.328   Train Accuracy: 88.48    Test Loss: 0.273   Test Accuracy: 90.59\n",
      "Epoch: 53   Train Loss: 0.331   Train Accuracy: 88.41    Test Loss: 0.276   Test Accuracy: 90.13\n",
      "Epoch: 54   Train Loss: 0.337   Train Accuracy: 88.16    Test Loss: 0.271   Test Accuracy: 90.72\n",
      "Epoch: 55   Train Loss: 0.332   Train Accuracy: 88.34    Test Loss: 0.274   Test Accuracy: 90.70\n",
      "Epoch: 56   Train Loss: 0.332   Train Accuracy: 88.39    Test Loss: 0.274   Test Accuracy: 90.44\n",
      "Epoch: 57   Train Loss: 0.332   Train Accuracy: 88.38    Test Loss: 0.272   Test Accuracy: 90.65\n",
      "Epoch: 58   Train Loss: 0.330   Train Accuracy: 88.32    Test Loss: 0.270   Test Accuracy: 90.69\n",
      "Epoch: 59   Train Loss: 0.334   Train Accuracy: 88.21    Test Loss: 0.273   Test Accuracy: 90.62\n",
      "Epoch: 60   Train Loss: 0.332   Train Accuracy: 88.19    Test Loss: 0.272   Test Accuracy: 90.58\n",
      "Epoch: 61   Train Loss: 0.333   Train Accuracy: 88.20    Test Loss: 0.274   Test Accuracy: 90.44\n",
      "Epoch: 62   Train Loss: 0.329   Train Accuracy: 88.39    Test Loss: 0.269   Test Accuracy: 90.61\n",
      "Epoch: 63   Train Loss: 0.327   Train Accuracy: 88.46    Test Loss: 0.273   Test Accuracy: 90.48\n",
      "Epoch: 64   Train Loss: 0.329   Train Accuracy: 88.35    Test Loss: 0.274   Test Accuracy: 90.51\n",
      "Epoch: 65   Train Loss: 0.328   Train Accuracy: 88.48    Test Loss: 0.275   Test Accuracy: 90.73\n",
      "Epoch: 66   Train Loss: 0.327   Train Accuracy: 88.46    Test Loss: 0.274   Test Accuracy: 90.26\n",
      "Epoch: 67   Train Loss: 0.326   Train Accuracy: 88.41    Test Loss: 0.270   Test Accuracy: 90.69\n",
      "Epoch: 68   Train Loss: 0.329   Train Accuracy: 88.34    Test Loss: 0.272   Test Accuracy: 90.71\n",
      "Epoch: 69   Train Loss: 0.330   Train Accuracy: 88.32    Test Loss: 0.274   Test Accuracy: 90.34\n",
      "Epoch: 70   Train Loss: 0.328   Train Accuracy: 88.28    Test Loss: 0.274   Test Accuracy: 90.50\n",
      "Epoch: 71   Train Loss: 0.326   Train Accuracy: 88.50    Test Loss: 0.271   Test Accuracy: 90.64\n",
      "Epoch: 72   Train Loss: 0.329   Train Accuracy: 88.40    Test Loss: 0.272   Test Accuracy: 90.82\n",
      "Epoch: 73   Train Loss: 0.328   Train Accuracy: 88.38    Test Loss: 0.269   Test Accuracy: 90.86\n",
      "Epoch: 74   Train Loss: 0.328   Train Accuracy: 88.41    Test Loss: 0.268   Test Accuracy: 90.65\n",
      "Epoch: 75   Train Loss: 0.324   Train Accuracy: 88.59    Test Loss: 0.271   Test Accuracy: 90.47\n",
      "Epoch: 76   Train Loss: 0.327   Train Accuracy: 88.43    Test Loss: 0.273   Test Accuracy: 90.57\n",
      "Epoch: 77   Train Loss: 0.327   Train Accuracy: 88.36    Test Loss: 0.274   Test Accuracy: 90.59\n",
      "Epoch: 78   Train Loss: 0.329   Train Accuracy: 88.44    Test Loss: 0.270   Test Accuracy: 90.62\n",
      "Epoch: 79   Train Loss: 0.325   Train Accuracy: 88.67    Test Loss: 0.268   Test Accuracy: 90.70\n",
      "Epoch: 80   Train Loss: 0.325   Train Accuracy: 88.50    Test Loss: 0.276   Test Accuracy: 90.44\n",
      "Epoch: 81   Train Loss: 0.322   Train Accuracy: 88.64    Test Loss: 0.270   Test Accuracy: 90.70\n",
      "Epoch: 82   Train Loss: 0.325   Train Accuracy: 88.54    Test Loss: 0.269   Test Accuracy: 90.62\n",
      "Epoch: 83   Train Loss: 0.328   Train Accuracy: 88.46    Test Loss: 0.269   Test Accuracy: 90.67\n",
      "Epoch: 84   Train Loss: 0.322   Train Accuracy: 88.60    Test Loss: 0.271   Test Accuracy: 90.75\n",
      "Epoch: 85   Train Loss: 0.324   Train Accuracy: 88.49    Test Loss: 0.274   Test Accuracy: 90.62\n",
      "Epoch: 86   Train Loss: 0.325   Train Accuracy: 88.55    Test Loss: 0.271   Test Accuracy: 90.78\n",
      "Epoch: 87   Train Loss: 0.324   Train Accuracy: 88.42    Test Loss: 0.273   Test Accuracy: 90.54\n",
      "Epoch: 88   Train Loss: 0.323   Train Accuracy: 88.42    Test Loss: 0.271   Test Accuracy: 90.72\n",
      "Epoch: 89   Train Loss: 0.325   Train Accuracy: 88.54    Test Loss: 0.271   Test Accuracy: 90.71\n",
      "Epoch: 90   Train Loss: 0.320   Train Accuracy: 88.62    Test Loss: 0.273   Test Accuracy: 90.52\n",
      "Epoch: 91   Train Loss: 0.322   Train Accuracy: 88.68    Test Loss: 0.270   Test Accuracy: 90.70\n",
      "Epoch: 92   Train Loss: 0.322   Train Accuracy: 88.59    Test Loss: 0.273   Test Accuracy: 90.46\n",
      "Epoch: 93   Train Loss: 0.323   Train Accuracy: 88.62    Test Loss: 0.273   Test Accuracy: 90.59\n",
      "Epoch: 94   Train Loss: 0.325   Train Accuracy: 88.48    Test Loss: 0.274   Test Accuracy: 90.64\n",
      "Epoch: 95   Train Loss: 0.326   Train Accuracy: 88.45    Test Loss: 0.272   Test Accuracy: 90.76\n",
      "Epoch: 96   Train Loss: 0.320   Train Accuracy: 88.64    Test Loss: 0.268   Test Accuracy: 90.78\n",
      "Epoch: 97   Train Loss: 0.327   Train Accuracy: 88.47    Test Loss: 0.271   Test Accuracy: 90.55\n",
      "Epoch: 98   Train Loss: 0.320   Train Accuracy: 88.65    Test Loss: 0.271   Test Accuracy: 90.54\n",
      "Epoch: 99   Train Loss: 0.321   Train Accuracy: 88.61    Test Loss: 0.274   Test Accuracy: 90.48\n",
      "Epoch: 100   Train Loss: 0.324   Train Accuracy: 88.56    Test Loss: 0.269   Test Accuracy: 90.75\n",
      "Excecution time(Hrs/mins/secs): 0:08:04.008169\n"
     ]
    }
   ],
   "source": [
    "num_epoch = 100 #Number of epochs\n",
    "\n",
    "start = timer()\n",
    "\n",
    "a_tr_loss = np.zeros([num_epoch])\n",
    "a_tr_accuracy = np.zeros([num_epoch])\n",
    "a_ts_loss = np.zeros([num_epoch])\n",
    "a_ts_accuracy = np.zeros([num_epoch])\n",
    "predicted_sum = []\n",
    "\n",
    "for epoch in range(num_epoch):\n",
    "\n",
    "    model.train() # put model in training mode\n",
    "    correct = 0 # initialize error counter\n",
    "    total = 0 # initialize total counter\n",
    "    batch_loss_tr = []\n",
    "    # iterate over training set\n",
    "    for train_iter, data in enumerate(train_loader):\n",
    "        x_batch,y_batch = data\n",
    "        y_batch = y_batch.type(torch.long)\n",
    "        out = model(x_batch)\n",
    "        # Compute Loss\n",
    "        loss = criterion(out,y_batch)\n",
    "        batch_loss_tr.append(loss.item())\n",
    "        # Compute gradients using back propagation\n",
    "        opt.zero_grad()\n",
    "        loss.backward()\n",
    "        # Take an optimization 'step'\n",
    "        opt.step()\n",
    "        # Do hard classification: index of largest score\n",
    "        _, predicted = torch.max(out.data, 1)\n",
    "        # Compute number of decision errors\n",
    "        total += y_batch.size(0)\n",
    "        correct += (predicted == y_batch).sum().item()\n",
    "        \n",
    "    a_tr_loss[epoch] = np.mean(batch_loss_tr) # Compute average loss over epoch\n",
    "    a_tr_accuracy[epoch] = 100*correct/total\n",
    "\n",
    "    model.eval() # put model in evaluation mode\n",
    "    correct = 0 # initialize error counter\n",
    "    total = 0 # initialize total counter\n",
    "    batch_loss_ts = []\n",
    "    with torch.no_grad():\n",
    "        for data in test_loader:\n",
    "            images, labels = data\n",
    "            labels = labels.type(torch.long)\n",
    "            outputs = model(images)\n",
    "            batch_loss_ts.append(criterion(outputs,labels).item())\n",
    "            _, predicted = torch.max(outputs.data, 1)\n",
    "            total += labels.size(0)\n",
    "            correct += (predicted == labels).sum().item()\n",
    "            \n",
    "    a_ts_loss[epoch] = np.mean(batch_loss_ts)\n",
    "    a_ts_accuracy[epoch] = 100*correct/total\n",
    "    predicted_sum.append(predicted)\n",
    "    # Print details every print_mod epoch\n",
    "    print('Epoch: {0:2d}   Train Loss: {1:.3f}   '.format(epoch+1, a_tr_loss[epoch])\n",
    "          +'Train Accuracy: {0:.2f}    Test Loss: {1:.3f}   '.format(a_tr_accuracy[epoch], a_ts_loss[epoch])\n",
    "          +'Test Accuracy: {0:.2f}'.format(a_ts_accuracy[epoch]))\n",
    "end = timer()\n",
    "print('Excecution time(Hrs/mins/secs):',timedelta(seconds=end-start))"
   ]
  },
  {
   "cell_type": "markdown",
   "metadata": {
    "id": "wxyru3CHzWDO"
   },
   "source": [
    "__Plotting the Traning and Test accuracy versus no. of epochs__"
   ]
  },
  {
   "cell_type": "code",
   "execution_count": null,
   "metadata": {
    "colab": {
     "base_uri": "https://localhost:8080/",
     "height": 329
    },
    "id": "z4UCczqwzaJZ",
    "outputId": "39105e5f-4f68-4756-d9b7-f7430be4c75c"
   },
   "outputs": [
    {
     "name": "stdout",
     "output_type": "stream",
     "text": [
      "max test accuracy: 90.86\n"
     ]
    },
    {
     "data": {
      "text/plain": [
       "<matplotlib.legend.Legend at 0x7f832eeec780>"
      ]
     },
     "execution_count": 16,
     "metadata": {
      "tags": []
     },
     "output_type": "execute_result"
    },
    {
     "data": {
      "image/png": "[encoded data removed]",
      "text/plain": [
       "<Figure size 432x288 with 1 Axes>"
      ]
     },
     "metadata": {
      "needs_background": "light",
      "tags": []
     },
     "output_type": "display_data"
    }
   ],
   "source": [
    "print(\"max test accuracy: %.2f\"%(np.max(a_ts_accuracy)))\n",
    "%matplotlib inline\n",
    "plt.plot(a_tr_accuracy)\n",
    "plt.plot(a_ts_accuracy)\n",
    "plt.grid()\n",
    "plt.xlabel('epochs')\n",
    "plt.ylabel('accuracy')\n",
    "plt.title('Accuracy vs no. of epochs plot with Batch normalization and droupout (0.5)')\n",
    "plt.legend(['training accuracy', 'test accuracy'])"
   ]
  },
  {
   "cell_type": "markdown",
   "metadata": {
    "id": "vPMYq8KvzhxH"
   },
   "source": [
    "__Creating the confusion matrix and plotting it__"
   ]
  },
  {
   "cell_type": "code",
   "execution_count": null,
   "metadata": {
    "colab": {
     "base_uri": "https://localhost:8080/"
    },
    "id": "MGs4rB92znOc",
    "outputId": "875522c9-c174-49be-ec68-8dfe8239e486"
   },
   "outputs": [
    {
     "name": "stdout",
     "output_type": "stream",
     "text": [
      "accuracy = 90.750000\n",
      "tensor([ 2.,  9.,  9.,  ...,  3.,  5., 18.])\n",
      "tensor([13.,  9.,  9.,  ...,  3.,  5., 18.])\n"
     ]
    }
   ],
   "source": [
    "correct = 0\n",
    "total = 0\n",
    "C = np.zeros((20,20))\n",
    "all_labels = torch.tensor([])\n",
    "all_preds = torch.tensor([])\n",
    "with torch.no_grad():\n",
    "    for data in test_loader:\n",
    "        images, labels = data\n",
    "        labels = labels.type(torch.long)\n",
    "        all_labels = torch.cat((all_labels, labels),dim = 0)\n",
    "        outputs = model(images)\n",
    "        _,predicted = torch.max(outputs.data, 1)\n",
    "        all_preds = torch.cat((all_preds, predicted),dim = 0)\n",
    "        total += labels.size(0)\n",
    "        correct += (predicted == labels).sum().item()\n",
    "    acc = 100*correct/total\n",
    "print(\"accuracy = %f\" % acc)\n",
    "print((all_preds))\n",
    "print((all_labels))\n"
   ]
  },
  {
   "cell_type": "code",
   "execution_count": null,
   "metadata": {
    "colab": {
     "base_uri": "https://localhost:8080/",
     "height": 265
    },
    "id": "Yhhjt6DszpDI",
    "outputId": "34c8c12e-67d0-4170-9f8d-2d12cfc9ea30"
   },
   "outputs": [
    {
     "data": {
      "image/png": "[encoded data removed]",
      "text/plain": [
       "<Figure size 432x288 with 2 Axes>"
      ]
     },
     "metadata": {
      "needs_background": "light",
      "tags": []
     },
     "output_type": "display_data"
    }
   ],
   "source": [
    "def conf_matrix(y_true, yhat):\n",
    "  \n",
    "  C = confusion_matrix(y_true, yhat)\n",
    "  # Normalize the confusion matrix\n",
    "  Csum = np.sum(C,0)\n",
    "  # print(Csum[:,None])\n",
    "  C = C / Csum[:,None]\n",
    "  plt.imshow(C, interpolation='none')\n",
    "  plt.colorbar()\n",
    "cm = conf_matrix(all_labels, all_preds)"
   ]
  },
  {
   "cell_type": "code",
   "execution_count": null,
   "metadata": {
    "id": "mJqOAa8IHfRV"
   },
   "outputs": [],
   "source": [
    "# Save \n",
    "PATH = \"best_nn.pth\"\n",
    "\n",
    "with torch.no_grad():\n",
    "    traced_cell = torch.jit.trace(model, (torch.Tensor(X)))\n",
    "torch.jit.save(traced_cell, PATH)"
   ]
  },
  {
   "cell_type": "markdown",
   "metadata": {
    "id": "eTcC19cqxUSf"
   },
   "source": [
    "## CNN Deep Neural Network"
   ]
  },
  {
   "cell_type": "markdown",
   "metadata": {
    "id": "qVA0JBRiBrav"
   },
   "source": [
    "In the following block we define a dataset class for the data loader."
   ]
  },
  {
   "cell_type": "code",
   "execution_count": null,
   "metadata": {
    "id": "mTGkylmw7t_s"
   },
   "outputs": [],
   "source": [
    "from torch.utils.data import Dataset, DataLoader\n",
    "class ProjectDataset(Dataset):\n",
    "\n",
    "    def __init__(self, samples, targets, transform=None):\n",
    "        self.samples = samples\n",
    "        self.targets = targets\n",
    "        self.transform = transform\n",
    "\n",
    "    def __len__(self):\n",
    "        return len(self.targets)\n",
    "\n",
    "    def __getitem__(self, index):  \n",
    "        label = self.targets[index]\n",
    "        sample = self.samples[index,:]\n",
    "        sample = sample.reshape(1,-1)\n",
    "        if self.transform:\n",
    "            sample = self.transform(sample)\n",
    "        return (sample, label)"
   ]
  },
  {
   "cell_type": "markdown",
   "metadata": {
    "id": "6w30Xv-FB2Qd"
   },
   "source": [
    "Load dataset using data loader."
   ]
  },
  {
   "cell_type": "code",
   "execution_count": null,
   "metadata": {
    "colab": {
     "base_uri": "https://localhost:8080/"
    },
    "id": "-XhelGPZB3Co",
    "outputId": "6fd8b98f-5181-48bb-a731-99f38f258e76"
   },
   "outputs": [
    {
     "name": "stdout",
     "output_type": "stream",
     "text": [
      "tensor([[-0.3573, -0.6138, -0.3287, -1.0153, -0.7815,  0.0984, -0.7074,  1.2499,\n",
      "         -0.4612, -0.2412, -0.0168, -0.4169, -0.8417, -1.4392, -1.2501, -0.4910,\n",
      "         -0.6649, -0.5931, -0.5833, -0.3049]], dtype=torch.float64)\n",
      "tensor(17)\n"
     ]
    }
   ],
   "source": [
    "import torch\n",
    "from torchvision import transforms\n",
    "# transform = transforms.ToTensor()\n",
    "batch_size = 100\n",
    "train_ds = ProjectDataset(Xtr, ytr)\n",
    "test_ds = ProjectDataset(Xts, yts)\n",
    "train_dl = DataLoader(train_ds, batch_size=batch_size, shuffle=True, num_workers=4)\n",
    "test_dl = DataLoader(test_ds, batch_size=batch_size, shuffle=True, num_workers=4)\n",
    "\n",
    "# print one sample\n",
    "xx, yy = next(iter(train_dl))\n",
    "print(xx[0])\n",
    "print(yy[0])"
   ]
  },
  {
   "cell_type": "code",
   "execution_count": null,
   "metadata": {
    "colab": {
     "base_uri": "https://localhost:8080/"
    },
    "id": "15gTAUfG7l70",
    "outputId": "4c531e70-c311-4b28-9f2f-871f9165f71a"
   },
   "outputs": [
    {
     "name": "stdout",
     "output_type": "stream",
     "text": [
      "cuda:0\n"
     ]
    }
   ],
   "source": [
    "# define the device to run\n",
    "if torch.cuda.is_available():\n",
    "  device = torch.device('cuda:0')\n",
    "else:\n",
    "  device = torch.device('cpu')\n",
    "print(device)"
   ]
  },
  {
   "cell_type": "markdown",
   "metadata": {
    "id": "v5mJchkE7xKW"
   },
   "source": [
    "Define a function to plot confusion matrix."
   ]
  },
  {
   "cell_type": "code",
   "execution_count": null,
   "metadata": {
    "id": "jMEKSxbw7oqU"
   },
   "outputs": [],
   "source": [
    "from sklearn.metrics import confusion_matrix\n",
    "# define the function to plot confusion matrix for a specific model\n",
    "def conf_matrix(model):\n",
    "  # load all data in test set\n",
    "  test_dl2 = DataLoader(test_ds, batch_size=len(yts), shuffle=False)\n",
    "\n",
    "  model.eval() # put model in evaluation mode\n",
    "  with torch.no_grad():\n",
    "      x, labels = next(iter(test_dl2))\n",
    "      x = x.type(torch.float32)\n",
    "      x = x.to(device)\n",
    "      labels = labels.to(device)\n",
    "      outputs = model(x)\n",
    "      _, predicted = torch.max(outputs.data, 1)\n",
    "\n",
    "  yhat = predicted.cpu().numpy() \n",
    "  y_true = labels.cpu().numpy()\n",
    "\n",
    "  C = confusion_matrix(y_true, yhat)\n",
    "\n",
    "  # Normalize the confusion matrix\n",
    "  Csum = np.sum(C,0)\n",
    "  # print(Csum[:,None])\n",
    "  C = C / Csum[:,None]\n",
    "  # print(np.mean(C,0))\n",
    "\n",
    "  # Print the confusion matrix\n",
    "  # print(np.array_str(C, precision=3, suppress_small=True))\n",
    "  plt.imshow(C, interpolation='none')\n",
    "  plt.colorbar()"
   ]
  },
  {
   "cell_type": "markdown",
   "metadata": {
    "id": "mmNNz2FT74Y8"
   },
   "source": [
    "Define training and testing function."
   ]
  },
  {
   "cell_type": "code",
   "execution_count": null,
   "metadata": {
    "id": "aaWgs9Gg767_"
   },
   "outputs": [],
   "source": [
    "# define model training function\n",
    "def model_train(model, opt, scheduler):\n",
    "  correct = 0 # initialize error counter\n",
    "  total = 0 # initialize total counter\n",
    "  model.train() # put model in training mode\n",
    "  # iterate over training set\n",
    "\n",
    "  for train_iter, data in enumerate(train_dl):\n",
    "    x_batch,y_batch = data\n",
    "    x_batch = x_batch.type(torch.float32)\n",
    "    x_batch = x_batch.to(device)\n",
    "    y_batch = y_batch.long()\n",
    "    y_batch = y_batch.to(device)\n",
    "    out = model(x_batch)\n",
    "    # Compute Loss\n",
    "    loss = criterion(out,y_batch)\n",
    "    # Zero gradients\n",
    "    opt.zero_grad()\n",
    "    # Compute gradients using back propagation\n",
    "    loss.backward()\n",
    "    # Take an optimization 'step'\n",
    "    opt.step()\n",
    "    \n",
    "    # Compute Accuracy\n",
    "    _, predicted = torch.max(out.data, 1)\n",
    "    total += y_batch.size(0)\n",
    "    correct += (predicted == y_batch).sum().item()\n",
    "  \n",
    "  # Take scheduler step\n",
    "  scheduler.step()\n",
    "\n",
    "  accu = 100*correct/total\n",
    "  return accu\n",
    "\n",
    "# define model validation function\n",
    "def model_val(model):\n",
    "  correct = 0\n",
    "  total = 0\n",
    "  model.eval() # put model in evaluation mode\n",
    "  with torch.no_grad():\n",
    "    for data in test_dl:\n",
    "      xs, labels = data\n",
    "      xs = xs.type(torch.float32)\n",
    "      xs = xs.to(device)\n",
    "      labels = labels.to(device)\n",
    "      outputs = model(xs)\n",
    "      _, predicted = torch.max(outputs.data, 1)\n",
    "      total += labels.size(0)\n",
    "      correct += (predicted == labels).sum().item()\n",
    "  \n",
    "  accu = 100*correct/total\n",
    "  return accu"
   ]
  },
  {
   "cell_type": "markdown",
   "metadata": {
    "id": "h9CTOCLY-EOq"
   },
   "source": [
    "The following network is the most optimized one in our documentation."
   ]
  },
  {
   "cell_type": "code",
   "execution_count": null,
   "metadata": {
    "colab": {
     "base_uri": "https://localhost:8080/"
    },
    "id": "LCW0CvDQ-McN",
    "outputId": "ba649bc7-7a67-4b04-baf4-64f76bcda228"
   },
   "outputs": [
    {
     "data": {
      "text/plain": [
       "bndrop8(\n",
       "  (leakyrelu): LeakyReLU(negative_slope=0.01)\n",
       "  (conv1): Conv1d(1, 128, kernel_size=(3,), stride=(1,), padding=(1,))\n",
       "  (pool): MaxPool1d(kernel_size=2, stride=2, padding=0, dilation=1, ceil_mode=False)\n",
       "  (bn1): BatchNorm1d(128, eps=1e-05, momentum=0.1, affine=True, track_running_stats=True)\n",
       "  (dropout1): Dropout2d(p=0.5, inplace=False)\n",
       "  (bn2): BatchNorm1d(1280, eps=1e-05, momentum=0.1, affine=True, track_running_stats=True)\n",
       "  (dropout2): Dropout(p=0.5, inplace=False)\n",
       "  (fc1): Linear(in_features=1280, out_features=256, bias=True)\n",
       "  (bn3): BatchNorm1d(256, eps=1e-05, momentum=0.1, affine=True, track_running_stats=True)\n",
       "  (dropout3): Dropout(p=0.5, inplace=False)\n",
       "  (fc2): Linear(in_features=256, out_features=20, bias=True)\n",
       ")"
      ]
     },
     "execution_count": 25,
     "metadata": {
      "tags": []
     },
     "output_type": "execute_result"
    }
   ],
   "source": [
    "import torch\n",
    "import torch.nn as nn\n",
    "\n",
    "class bndrop8(nn.Module):\n",
    "  def __init__(self):\n",
    "    super(bndrop8, self).__init__()\n",
    "    self.leakyrelu = nn.LeakyReLU()\n",
    "    self.conv1 = nn.Conv1d(1,128,3,padding=1)\n",
    "    self.pool = nn.MaxPool1d(2,2)\n",
    "    self.bn1 = nn.BatchNorm1d(128)\n",
    "    self.dropout1 = nn.Dropout2d(p=0.5)\n",
    "    # self.conv2 = nn.Conv1d(128,128,3,padding=1)\n",
    "    self.bn2 = nn.BatchNorm1d(128*10)\n",
    "    self.dropout2 = nn.Dropout(p=0.5)\n",
    "    self.fc1 = nn.Linear(128*10, 256)\n",
    "    self.bn3 = nn.BatchNorm1d(256)\n",
    "    self.dropout3 = nn.Dropout(p=0.5)\n",
    "    self.fc2 = nn.Linear(256, 20)\n",
    "\n",
    "  def forward(self, x):\n",
    "    x = self.bn1(self.pool(self.leakyrelu(self.conv1(x))))\n",
    "    # x = self.pool(self.leakyrelu(self.conv2(x)))\n",
    "    x = self.dropout2(self.bn2(x.view(x.size(0),-1)))\n",
    "    x = self.dropout3(self.bn3(self.leakyrelu(self.fc1(x))))\n",
    "    x = self.fc2(x)\n",
    "\n",
    "    return x\n",
    "\n",
    "model = bndrop8()\n",
    "model.to(device)\n"
   ]
  },
  {
   "cell_type": "markdown",
   "metadata": {
    "id": "uPlnveZu-dS3"
   },
   "source": [
    "Initialize optimizer and scheduler."
   ]
  },
  {
   "cell_type": "code",
   "execution_count": null,
   "metadata": {
    "id": "XokuWnLx-ZfO"
   },
   "outputs": [],
   "source": [
    "import torch.optim as optim\n",
    "\n",
    "epochs = 100\n",
    "lrate = 0.001\n",
    "decay = lrate/epochs\n",
    "\n",
    "# initiate Adam optimizer\n",
    "opt = optim.Adam(model.parameters(), lr=lrate)\n",
    "\n",
    "# Create learning rate scheduler \n",
    "lambda1 = lambda epoch: 1/(1 + decay * epoch)\n",
    "scheduler = optim.lr_scheduler.LambdaLR(opt, lr_lambda=lambda1)\n",
    "\n",
    "# initiate loss function for multi-class classification\n",
    "criterion = nn.CrossEntropyLoss()\n"
   ]
  },
  {
   "cell_type": "markdown",
   "metadata": {
    "id": "punEdMrR-ltO"
   },
   "source": [
    "Start training!"
   ]
  },
  {
   "cell_type": "code",
   "execution_count": null,
   "metadata": {
    "colab": {
     "base_uri": "https://localhost:8080/"
    },
    "id": "byS2Y2x7-lL2",
    "outputId": "cf2ada93-0976-4c30-e8fb-4326ac4c2256"
   },
   "outputs": [
    {
     "name": "stdout",
     "output_type": "stream",
     "text": [
      "Epoch:  1   Train Accuracy: 81.580%   Test Accuracy: 88.120%\n",
      "Epoch:  2   Train Accuracy: 84.989%   Test Accuracy: 88.740%\n",
      "Epoch:  3   Train Accuracy: 85.679%   Test Accuracy: 89.280%\n",
      "Epoch:  4   Train Accuracy: 86.033%   Test Accuracy: 89.500%\n",
      "Epoch:  5   Train Accuracy: 86.323%   Test Accuracy: 89.060%\n",
      "Epoch:  6   Train Accuracy: 86.439%   Test Accuracy: 89.800%\n",
      "Epoch:  7   Train Accuracy: 86.681%   Test Accuracy: 90.110%\n",
      "Epoch:  8   Train Accuracy: 86.876%   Test Accuracy: 89.973%\n",
      "Epoch:  9   Train Accuracy: 86.936%   Test Accuracy: 90.063%\n",
      "Epoch: 10   Train Accuracy: 87.324%   Test Accuracy: 90.140%\n",
      "Epoch: 11   Train Accuracy: 87.349%   Test Accuracy: 89.853%\n",
      "Epoch: 12   Train Accuracy: 87.400%   Test Accuracy: 90.400%\n",
      "Epoch: 13   Train Accuracy: 87.577%   Test Accuracy: 90.450%\n",
      "Epoch: 14   Train Accuracy: 87.554%   Test Accuracy: 90.393%\n",
      "Epoch: 15   Train Accuracy: 87.647%   Test Accuracy: 90.357%\n",
      "Epoch: 16   Train Accuracy: 87.603%   Test Accuracy: 90.090%\n",
      "Epoch: 17   Train Accuracy: 87.751%   Test Accuracy: 90.447%\n",
      "Epoch: 18   Train Accuracy: 87.969%   Test Accuracy: 90.477%\n",
      "Epoch: 19   Train Accuracy: 87.887%   Test Accuracy: 90.667%\n",
      "Epoch: 20   Train Accuracy: 87.967%   Test Accuracy: 90.487%\n",
      "Epoch: 21   Train Accuracy: 88.109%   Test Accuracy: 90.567%\n",
      "Epoch: 22   Train Accuracy: 87.834%   Test Accuracy: 90.753%\n",
      "Epoch: 23   Train Accuracy: 87.964%   Test Accuracy: 90.690%\n",
      "Epoch: 24   Train Accuracy: 88.223%   Test Accuracy: 90.633%\n",
      "Epoch: 25   Train Accuracy: 88.224%   Test Accuracy: 90.683%\n",
      "Epoch: 26   Train Accuracy: 88.101%   Test Accuracy: 90.683%\n",
      "Epoch: 27   Train Accuracy: 88.120%   Test Accuracy: 90.663%\n",
      "Epoch: 28   Train Accuracy: 88.321%   Test Accuracy: 90.737%\n",
      "Epoch: 29   Train Accuracy: 88.324%   Test Accuracy: 90.653%\n",
      "Epoch: 30   Train Accuracy: 88.403%   Test Accuracy: 90.610%\n",
      "Epoch: 31   Train Accuracy: 88.333%   Test Accuracy: 90.773%\n",
      "Epoch: 32   Train Accuracy: 88.420%   Test Accuracy: 90.500%\n",
      "Epoch: 33   Train Accuracy: 88.507%   Test Accuracy: 90.750%\n",
      "Epoch: 34   Train Accuracy: 88.386%   Test Accuracy: 90.743%\n",
      "Epoch: 35   Train Accuracy: 88.384%   Test Accuracy: 90.663%\n",
      "Epoch: 36   Train Accuracy: 88.540%   Test Accuracy: 90.773%\n",
      "Epoch: 37   Train Accuracy: 88.447%   Test Accuracy: 90.767%\n",
      "Epoch: 38   Train Accuracy: 88.584%   Test Accuracy: 90.743%\n",
      "Epoch: 39   Train Accuracy: 88.526%   Test Accuracy: 90.917%\n",
      "Epoch: 40   Train Accuracy: 88.467%   Test Accuracy: 90.757%\n",
      "Epoch: 41   Train Accuracy: 88.584%   Test Accuracy: 90.793%\n",
      "Epoch: 42   Train Accuracy: 88.499%   Test Accuracy: 90.737%\n",
      "Epoch: 43   Train Accuracy: 88.599%   Test Accuracy: 90.640%\n",
      "Epoch: 44   Train Accuracy: 88.469%   Test Accuracy: 90.907%\n",
      "Epoch: 45   Train Accuracy: 88.463%   Test Accuracy: 90.557%\n",
      "Epoch: 46   Train Accuracy: 88.641%   Test Accuracy: 90.727%\n",
      "Epoch: 47   Train Accuracy: 88.593%   Test Accuracy: 90.713%\n",
      "Epoch: 48   Train Accuracy: 88.567%   Test Accuracy: 90.740%\n",
      "Epoch: 49   Train Accuracy: 88.757%   Test Accuracy: 90.787%\n",
      "Epoch: 50   Train Accuracy: 88.657%   Test Accuracy: 90.863%\n",
      "Epoch: 51   Train Accuracy: 88.754%   Test Accuracy: 90.837%\n",
      "Epoch: 52   Train Accuracy: 88.669%   Test Accuracy: 90.897%\n",
      "Epoch: 53   Train Accuracy: 88.669%   Test Accuracy: 90.883%\n",
      "Epoch: 54   Train Accuracy: 88.650%   Test Accuracy: 90.733%\n",
      "Epoch: 55   Train Accuracy: 88.659%   Test Accuracy: 90.840%\n",
      "Epoch: 56   Train Accuracy: 88.713%   Test Accuracy: 90.820%\n",
      "Epoch: 57   Train Accuracy: 88.627%   Test Accuracy: 90.843%\n",
      "Epoch: 58   Train Accuracy: 88.643%   Test Accuracy: 90.993%\n",
      "Epoch: 59   Train Accuracy: 88.927%   Test Accuracy: 90.887%\n",
      "Epoch: 60   Train Accuracy: 88.753%   Test Accuracy: 90.940%\n",
      "Epoch: 61   Train Accuracy: 88.813%   Test Accuracy: 90.770%\n",
      "Epoch: 62   Train Accuracy: 88.789%   Test Accuracy: 90.607%\n",
      "Epoch: 63   Train Accuracy: 88.707%   Test Accuracy: 90.780%\n",
      "Epoch: 64   Train Accuracy: 88.900%   Test Accuracy: 90.850%\n",
      "Epoch: 65   Train Accuracy: 88.791%   Test Accuracy: 90.593%\n",
      "Epoch: 66   Train Accuracy: 88.829%   Test Accuracy: 90.800%\n",
      "Epoch: 67   Train Accuracy: 88.833%   Test Accuracy: 90.923%\n",
      "Epoch: 68   Train Accuracy: 88.710%   Test Accuracy: 90.867%\n",
      "Epoch: 69   Train Accuracy: 88.991%   Test Accuracy: 90.507%\n",
      "Epoch: 70   Train Accuracy: 88.966%   Test Accuracy: 90.910%\n",
      "Epoch: 71   Train Accuracy: 88.790%   Test Accuracy: 90.740%\n",
      "Epoch: 72   Train Accuracy: 88.790%   Test Accuracy: 90.863%\n",
      "Epoch: 73   Train Accuracy: 88.877%   Test Accuracy: 90.867%\n",
      "Epoch: 74   Train Accuracy: 88.776%   Test Accuracy: 90.937%\n",
      "Epoch: 75   Train Accuracy: 89.014%   Test Accuracy: 90.940%\n",
      "Epoch: 76   Train Accuracy: 88.909%   Test Accuracy: 90.850%\n",
      "Epoch: 77   Train Accuracy: 88.999%   Test Accuracy: 90.903%\n",
      "Epoch: 78   Train Accuracy: 88.790%   Test Accuracy: 90.680%\n",
      "Epoch: 79   Train Accuracy: 88.944%   Test Accuracy: 90.920%\n",
      "Epoch: 80   Train Accuracy: 88.821%   Test Accuracy: 90.967%\n",
      "Epoch: 81   Train Accuracy: 89.010%   Test Accuracy: 90.967%\n",
      "Epoch: 82   Train Accuracy: 88.936%   Test Accuracy: 91.057%\n",
      "Epoch: 83   Train Accuracy: 88.993%   Test Accuracy: 91.023%\n",
      "Epoch: 84   Train Accuracy: 88.964%   Test Accuracy: 90.937%\n",
      "Epoch: 85   Train Accuracy: 88.899%   Test Accuracy: 90.883%\n",
      "Epoch: 86   Train Accuracy: 88.950%   Test Accuracy: 90.893%\n",
      "Epoch: 87   Train Accuracy: 88.953%   Test Accuracy: 90.797%\n",
      "Epoch: 88   Train Accuracy: 88.906%   Test Accuracy: 90.910%\n",
      "Epoch: 89   Train Accuracy: 88.970%   Test Accuracy: 90.993%\n",
      "Epoch: 90   Train Accuracy: 88.987%   Test Accuracy: 90.720%\n",
      "Epoch: 91   Train Accuracy: 88.967%   Test Accuracy: 90.983%\n",
      "Epoch: 92   Train Accuracy: 89.053%   Test Accuracy: 90.963%\n",
      "Epoch: 93   Train Accuracy: 88.989%   Test Accuracy: 91.030%\n",
      "Epoch: 94   Train Accuracy: 89.043%   Test Accuracy: 90.847%\n",
      "Epoch: 95   Train Accuracy: 89.094%   Test Accuracy: 90.960%\n",
      "Epoch: 96   Train Accuracy: 88.996%   Test Accuracy: 90.927%\n",
      "Epoch: 97   Train Accuracy: 88.947%   Test Accuracy: 90.937%\n",
      "Epoch: 98   Train Accuracy: 89.086%   Test Accuracy: 90.870%\n",
      "Epoch: 99   Train Accuracy: 88.856%   Test Accuracy: 90.983%\n",
      "Epoch: 100   Train Accuracy: 89.230%   Test Accuracy: 90.843%\n",
      "Average time per epoch: 4.565205 s\n"
     ]
    }
   ],
   "source": [
    "import time\n",
    "\n",
    "bndrop8_tr_accuracy = []\n",
    "bndrop8_ts_accuracy = []\n",
    "\n",
    "t1 = time.time()\n",
    "for epoch in range(epochs):\n",
    "    \n",
    "  accu_train = model_train(model, opt, scheduler)\n",
    "  bndrop8_tr_accuracy.append( accu_train )\n",
    "  \n",
    "  accu_val = model_val(model)\n",
    "  bndrop8_ts_accuracy.append( accu_val )\n",
    "\n",
    "  # Print details every print_mod epoch\n",
    "  print('Epoch: {0:2d}   Train Accuracy: {1:.3f}%   Test Accuracy: {2:.3f}%'\\\n",
    "        .format(epoch+1, bndrop8_tr_accuracy[epoch], bndrop8_ts_accuracy[epoch]))\n",
    "t2 = time.time()\n",
    "print('Average time per epoch: %f s'%((t2-t1)/epochs))\n"
   ]
  },
  {
   "cell_type": "code",
   "execution_count": null,
   "metadata": {
    "colab": {
     "base_uri": "https://localhost:8080/",
     "height": 282
    },
    "id": "JYHtGHFv-utg",
    "outputId": "f2cd3553-a057-46c5-e764-0d2bf8185807"
   },
   "outputs": [
    {
     "name": "stdout",
     "output_type": "stream",
     "text": [
      "Max test accuracy: 91.06%\n"
     ]
    },
    {
     "data": {
      "image/png": "[encoded data removed]",
      "text/plain": [
       "<Figure size 432x288 with 2 Axes>"
      ]
     },
     "metadata": {
      "needs_background": "light",
      "tags": []
     },
     "output_type": "display_data"
    }
   ],
   "source": [
    "# plot confusion matrix\n",
    "max_ts_accu = max(bndrop8_ts_accuracy)\n",
    "print(\"Max test accuracy: {0:.2f}%\".format(max_ts_accu))\n",
    "conf_matrix(model)"
   ]
  },
  {
   "cell_type": "code",
   "execution_count": null,
   "metadata": {
    "colab": {
     "base_uri": "https://localhost:8080/",
     "height": 312
    },
    "id": "EgSkRMURcVgE",
    "outputId": "dd27ccca-cafc-4499-9e33-51267f95ae72"
   },
   "outputs": [
    {
     "data": {
      "text/plain": [
       "<matplotlib.legend.Legend at 0x7f8323bc2710>"
      ]
     },
     "execution_count": 29,
     "metadata": {
      "tags": []
     },
     "output_type": "execute_result"
    },
    {
     "data": {
      "image/png": "[encoded data removed]",
      "text/plain": [
       "<Figure size 432x288 with 1 Axes>"
      ]
     },
     "metadata": {
      "needs_background": "light",
      "tags": []
     },
     "output_type": "display_data"
    }
   ],
   "source": [
    "# plot training and test accuracy \n",
    "epochsn=np.arange(1,epochs+1)\n",
    "plt.plot(epochsn,bndrop8_tr_accuracy)\n",
    "plt.plot(epochsn,bndrop8_ts_accuracy)\n",
    "plt.xlim((1,epochs))\n",
    "\n",
    "plt.grid()\n",
    "plt.xlabel('epochs')\n",
    "plt.ylabel('accuarcy')\n",
    "plt.title('Training and Test Accuracy')\n",
    "plt.legend(['Training', 'Test'])"
   ]
  },
  {
   "cell_type": "markdown",
   "metadata": {
    "id": "_KDwLxyZ--nN"
   },
   "source": [
    "Save the best CNN model."
   ]
  },
  {
   "cell_type": "code",
   "execution_count": null,
   "metadata": {
    "id": "Yc_dYcc3-wFM"
   },
   "outputs": [],
   "source": [
    "# Save \n",
    "PATH = \"best_cnn.pth\"\n",
    "xx = X[:,np.newaxis,:]\n",
    "model = model.cpu() # save model to run on CPU only\n",
    "with torch.no_grad():\n",
    "    traced_cell = torch.jit.trace(model, (torch.Tensor(xx)))\n",
    "torch.jit.save(traced_cell, PATH)"
   ]
  },
  {
   "cell_type": "markdown",
   "metadata": {
    "id": "4SD9dg3r1wNK"
   },
   "source": [
    "## Random Forest"
   ]
  },
  {
   "cell_type": "code",
   "execution_count": null,
   "metadata": {
    "id": "uDwPjOmJ12Ie"
   },
   "outputs": [],
   "source": [
    "#Importing all the required modules\n",
    "import numpy as np\n",
    "from sklearn.preprocessing import StandardScaler, MinMaxScaler\n",
    "from sklearn.model_selection import train_test_split\n",
    "from sklearn.ensemble import RandomForestClassifier\n",
    "from timeit import default_timer as timer\n",
    "from datetime import timedelta"
   ]
  },
  {
   "cell_type": "markdown",
   "metadata": {
    "id": "DyniViW02C1M"
   },
   "source": [
    "__Implementing Random Forest Classifier__"
   ]
  },
  {
   "cell_type": "code",
   "execution_count": null,
   "metadata": {
    "colab": {
     "base_uri": "https://localhost:8080/"
    },
    "id": "xB4eYMhm2E1L",
    "outputId": "ebedd6d1-6fd8-47e6-eb36-cc0e44b7ff56"
   },
   "outputs": [
    {
     "name": "stdout",
     "output_type": "stream",
     "text": [
      "Accuracy: 89.46%\n",
      "Excecution time(Hrs/mins/secs): 0:09:57.593880\n"
     ]
    }
   ],
   "source": [
    "start = timer()\n",
    "classifier = RandomForestClassifier(n_estimators = 1000, max_features=0.3) #Defining the parameters in Random Forest Classifier\n",
    "classifier.fit(Xtr, ytr) #Fitting the training and the test data\n",
    "y_pred = classifier.predict(Xts) #Predicting using the test data\n",
    "result = accuracy_score(yts,y_pred)# Calculating the accuracy of the model\n",
    "print(\"Accuracy: %.2f%%\" %(result*100.0))\n",
    "end = timer()\n",
    "print('Excecution time(Hrs/mins/secs):',timedelta(seconds=end-start))"
   ]
  },
  {
   "cell_type": "markdown",
   "metadata": {
    "id": "sdei5utXzy3T"
   },
   "source": [
    "Plot the confusion matrix."
   ]
  },
  {
   "cell_type": "code",
   "execution_count": null,
   "metadata": {
    "colab": {
     "base_uri": "https://localhost:8080/",
     "height": 282
    },
    "id": "zWyJVctEz2xA",
    "outputId": "29df19de-efb2-474d-da33-e0cbb579a677"
   },
   "outputs": [
    {
     "data": {
      "text/plain": [
       "<matplotlib.colorbar.Colorbar at 0x7f8322d55c88>"
      ]
     },
     "execution_count": 33,
     "metadata": {
      "tags": []
     },
     "output_type": "execute_result"
    },
    {
     "data": {
      "image/png": "[encoded data removed]",
      "text/plain": [
       "<Figure size 432x288 with 2 Axes>"
      ]
     },
     "metadata": {
      "needs_background": "light",
      "tags": []
     },
     "output_type": "display_data"
    }
   ],
   "source": [
    "from sklearn.metrics import confusion_matrix\n",
    "# Plot confusion matrix\n",
    "C = confusion_matrix(yts,y_pred)\n",
    "\n",
    "# Normalize the confusion matrix\n",
    "Csum = np.sum(C,1)\n",
    "C = C / Csum[:, None]\n",
    "\n",
    "# Print the confusion matrix\n",
    "# print(np.array_str(C, precision=3, suppress_small=True))\n",
    "plt.imshow(C, interpolation='none')\n",
    "plt.colorbar()"
   ]
  },
  {
   "cell_type": "code",
   "execution_count": null,
   "metadata": {
    "id": "QcjL0vejfCdq"
   },
   "outputs": [],
   "source": [
    "import bz2\n",
    "import pickle\n",
    "import _pickle as cPickle\n",
    "\n",
    "# Pickle a file and then compress it into a file with extension \n",
    "def compressed_pickle(title, data):\n",
    "  with bz2.BZ2File(title + '.pbz2', 'w') as f: \n",
    "    cPickle.dump(data, f)\n",
    "\n",
    "compressed_pickle('best_RF', classifier) "
   ]
  },
  {
   "cell_type": "markdown",
   "metadata": {
    "id": "JGxEZHXv2rYO"
   },
   "source": [
    "## XGBoost\n"
   ]
  },
  {
   "cell_type": "code",
   "execution_count": null,
   "metadata": {
    "colab": {
     "base_uri": "https://localhost:8080/"
    },
    "id": "ooAhL1xV2vNO",
    "outputId": "b558df05-f602-4cb3-c9af-b08ca5b9f98f"
   },
   "outputs": [
    {
     "name": "stdout",
     "output_type": "stream",
     "text": [
      "Training time =  {788.9939353466034} s\n",
      "Accuracy: 90.01%, test time: 22s\n"
     ]
    }
   ],
   "source": [
    "from xgboost import XGBClassifier\n",
    "#Define the model with optimized parameters\n",
    "model = XGBClassifier(n_estimators = 500, learning_rate = 0.1,  objective = 'multi: softmax', num_class = 20)\n",
    "start = time.time()\n",
    "#Training\n",
    "model.fit(Xtr, ytr)\n",
    "stop = time.time()\n",
    "\n",
    "# make predictions for test data\n",
    "print(\"Training time = \", {stop - start} , \"s\")\n",
    "\n",
    "y_pred1 = model.predict(Xtr)\n",
    "predictions1 = [round(value) for value in y_pred1]\n",
    "t1 = time.time()\n",
    "#Testing\n",
    "y_pred = model.predict(Xts)\n",
    "predictions = [round(value) for value in y_pred]\n",
    "#Accuracy calculations\n",
    "accuracy = accuracy_score(yts, predictions)\n",
    "t_test = time.time() - t1\n",
    "\n",
    "print(\"Accuracy: %.2f%%, test time: %.fs\" % (accuracy * 100.0, t_test))"
   ]
  },
  {
   "cell_type": "markdown",
   "metadata": {
    "id": "DKhUJ8_PzsyK"
   },
   "source": [
    "Plot the confusion matrix "
   ]
  },
  {
   "cell_type": "code",
   "execution_count": null,
   "metadata": {
    "colab": {
     "base_uri": "https://localhost:8080/"
    },
    "id": "BMdaqQt-zvLU",
    "outputId": "b579d159-6a81-4737-ee79-a6deed809e99"
   },
   "outputs": [
    {
     "data": {
      "text/plain": [
       "<matplotlib.colorbar.Colorbar at 0x7f8320c4ea20>"
      ]
     },
     "execution_count": 36,
     "metadata": {
      "tags": []
     },
     "output_type": "execute_result"
    },
    {
     "data": {
      "image/png": "[encoded data removed]",
      "text/plain": [
       "<Figure size 432x288 with 2 Axes>"
      ]
     },
     "metadata": {
      "needs_background": "light",
      "tags": []
     },
     "output_type": "display_data"
    }
   ],
   "source": [
    "from sklearn.metrics import confusion_matrix\n",
    "# Plot confusion matrix\n",
    "C = confusion_matrix(yts,predictions)\n",
    "\n",
    "# Normalize the confusion matrix\n",
    "Csum = np.sum(C,1)\n",
    "C = C / Csum[:, None]\n",
    "\n",
    "# Print the confusion matrix\n",
    "# print(np.array_str(C, precision=3, suppress_small=True))\n",
    "plt.imshow(C, interpolation='none')\n",
    "plt.colorbar()"
   ]
  },
  {
   "cell_type": "code",
   "execution_count": null,
   "metadata": {
    "id": "N8l_ed9hGzgx"
   },
   "outputs": [],
   "source": [
    "import pickle\n",
    "# save the model\n",
    "with open( \"best_xgboost.sav\", \"wb\" ) as fp:\n",
    "    pickle.dump( model, fp )"
   ]
  }
 ],
 "metadata": {
  "accelerator": "GPU",
  "colab": {
   "collapsed_sections": [],
   "name": "final_project.ipynb",
   "provenance": [],
   "toc_visible": true
  },
  "kernelspec": {
   "display_name": "Python 3",
   "language": "python",
   "name": "python3"
  },
  "language_info": {
   "codemirror_mode": {
    "name": "ipython",
    "version": 3
   },
   "file_extension": ".py",
   "mimetype": "text/x-python",
   "name": "python",
   "nbconvert_exporter": "python",
   "pygments_lexer": "ipython3",
   "version": "3.8.3"
  }
 },
 "nbformat": 4,
 "nbformat_minor": 4
}
